{
  "nbformat": 4,
  "nbformat_minor": 0,
  "metadata": {
    "colab": {
      "provenance": [],
      "authorship_tag": "ABX9TyMSxGupfoTdEKQ/B1neMMf/",
      "include_colab_link": true
    },
    "kernelspec": {
      "name": "python3",
      "display_name": "Python 3"
    },
    "language_info": {
      "name": "python"
    }
  },
  "cells": [
    {
      "cell_type": "markdown",
      "metadata": {
        "id": "view-in-github",
        "colab_type": "text"
      },
      "source": [
        "<a href=\"https://colab.research.google.com/github/MohamedEzzat89/TensorFlow_Course/blob/main/Tensorflow_introduction.ipynb\" target=\"_parent\"><img src=\"https://colab.research.google.com/assets/colab-badge.svg\" alt=\"Open In Colab\"/></a>"
      ]
    },
    {
      "cell_type": "markdown",
      "source": [
        "#What is TensorFlow?\n",
        "TensorFlow is a open source machine learning platform. It is owned and maintianed by google and is one of the largest open source machine\n",
        "leaming libraries in the world.\n",
        "\n",
        "For our purposes we will use TensorFlow to build models that can do some of the following things:\n",
        "* Image Classification\n",
        "* Data Clustering\n",
        "* Regression\n",
        "* Reiforcement Learning\n",
        "* Natural Language Processing\n",
        "\n",
        "Now let's start with a brief introduction to the basics of TensorFlow.\n",
        "\n",
        "#Installing TensorFlow\n",
        "To install TensorFlow on your local machine you can use pip.\n",
        "`pip install tensorflow`"
      ],
      "metadata": {
        "id": "rv2U8LmS3a7i"
      }
    }
  ]
}