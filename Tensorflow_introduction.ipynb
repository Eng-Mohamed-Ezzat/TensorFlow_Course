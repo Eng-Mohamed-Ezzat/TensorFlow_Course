{
  "nbformat": 4,
  "nbformat_minor": 0,
  "metadata": {
    "colab": {
      "provenance": [],
      "authorship_tag": "ABX9TyOE7V/V/twrOHSJ3qcweske",
      "include_colab_link": true
    },
    "kernelspec": {
      "name": "python3",
      "display_name": "Python 3"
    },
    "language_info": {
      "name": "python"
    }
  },
  "cells": [
    {
      "cell_type": "markdown",
      "metadata": {
        "id": "view-in-github",
        "colab_type": "text"
      },
      "source": [
        "<a href=\"https://colab.research.google.com/github/MohamedEzzat89/TensorFlow_Course/blob/main/Tensorflow_introduction.ipynb\" target=\"_parent\"><img src=\"https://colab.research.google.com/assets/colab-badge.svg\" alt=\"Open In Colab\"/></a>"
      ]
    },
    {
      "cell_type": "markdown",
      "source": [
        "#What is TensorFlow?\n",
        "TensorFlow is a open source machine learning platform. It is owned and maintianed by google and is one of the largest open source machine\n",
        "leaming libraries in the world.\n",
        "\n",
        "For our purposes we will use TensorFlow to build models that can do some of the following things:\n",
        "* Image Classification\n",
        "* Data Clustering\n",
        "* Regression\n",
        "* Reiforcement Learning\n",
        "* Natural Language Processing\n",
        "\n",
        "Now let's start with a brief introduction to the basics of TensorFlow.\n",
        "\n",
        "#Installing TensorFlow\n",
        "To install TensorFlow on your local machine you can use pip.\n",
        "* For CPU support only (no GPU acceleration), you can use:\n",
        "> `pip install tensorflow`\n",
        "\n",
        "* If you have a compatible NVIDIA GPU and want to leverage GPU acceleration, you can install TensorFlow with GPU support:\n",
        "> `pip install tensorflow-gpu`\n",
        "\n",
        "\n",
        "This will install the latest version of TensorFlow available on PyPI.\n",
        "* If you want to install a specific version, you can specify it, e.g.,\n",
        "> `pip install tensorflow==2.5.`\n",
        "\n",
        "\n",
        "\n"
      ],
      "metadata": {
        "id": "rv2U8LmS3a7i"
      }
    },
    {
      "cell_type": "code",
      "source": [
        "%tensorflow_version 2.x\n",
        "import tensorflow as tf\n",
        "print(tf.__version__)"
      ],
      "metadata": {
        "colab": {
          "base_uri": "https://localhost:8080/"
        },
        "id": "-M_WH7C97EOB",
        "outputId": "5a705d37-d0cf-4499-d0d0-8f800c8a536f"
      },
      "execution_count": 1,
      "outputs": [
        {
          "output_type": "stream",
          "name": "stdout",
          "text": [
            "Colab only includes TensorFlow 2.x; %tensorflow_version has no effect.\n",
            "2.13.0\n"
          ]
        }
      ]
    },
    {
      "cell_type": "markdown",
      "source": [
        "#Tensors\n",
        "\n",
        "Tensors are the basic data structures in TensorFlow. They are multidimensional arrays with a uniform data type. Tensors can be used to represent a wide variety of data, including images, text, and audio.\n",
        "\n",
        "##Creating Tensors\n",
        "\n",
        "There are several ways to create tensors in TensorFlow:\n",
        "\n",
        "* Constants: Tensors can be created from constants, such as numbers or strings.\n",
        "* Variables: Tensors can be created from variables, which are mutable tensors that can be updated during training.\n",
        "* Placeholders: Tensors can be created from placeholders, which are special tensors that can be fed with data from the outside world.\n",
        "* Operations: Tensors can be created by performing operations on other tensors. For example, you can add two tensors together, or multiply two tensors together.\n",
        "Using Tensors\n",
        "\n",
        "> Once you have created a tensor, you can use it in a variety of ways. You can perform operations on it, such as addition, multiplication, and matrix multiplication. You can also use it to feed data into a machine learning model.\n",
        "\n",
        "##Example\n",
        "\n",
        "Here is an example of how to create and use a tensor in TensorFlow:\n",
        "\n"
      ],
      "metadata": {
        "id": "GliuYqEKCsvj"
      }
    },
    {
      "cell_type": "code",
      "source": [
        "# Create a constant Tensor\n",
        "tensor1 = tf.constant([1,2,3,4,])\n",
        "\n",
        "# Print the Tesnsor\n",
        "print(tensor1)\n",
        "\n",
        "# Create another Constant Tensor\n",
        "tensor2 = tf.constant([9,8,7,6])\n",
        "\n",
        "# Print the Tesnsor\n",
        "print(tensor2)\n",
        "\n",
        "# Add two tensors together\n",
        "new_tensor = tf.add(tensor1,tensor2)\n",
        "\n",
        "# Print the new tensor\n",
        "print(new_tensor)"
      ],
      "metadata": {
        "colab": {
          "base_uri": "https://localhost:8080/"
        },
        "id": "tE8m8aSWDW1H",
        "outputId": "f3340e39-dc3e-40d0-8cf9-05863e5a8ca0"
      },
      "execution_count": 2,
      "outputs": [
        {
          "output_type": "stream",
          "name": "stdout",
          "text": [
            "tf.Tensor([1 2 3 4], shape=(4,), dtype=int32)\n",
            "tf.Tensor([9 8 7 6], shape=(4,), dtype=int32)\n",
            "tf.Tensor([10 10 10 10], shape=(4,), dtype=int32)\n"
          ]
        }
      ]
    },
    {
      "cell_type": "markdown",
      "source": [
        "##Data Types in TensorFlow:\n",
        "TensorFlow supports a wide variety of data types, including:\n",
        "Numeric data types: These data types represent numbers, such as integers and floating-point numbers.\n",
        "- String data types: These data types represent strings of characters.\n",
        "- Boolean data types: These data types represent boolean values, such as True and False.\n",
        "- Complex data types: These data types represent complex numbers, which are numbers that have a real part and an imaginary part.\n",
        "- Sparse data types: These data types represent sparse matrices, which are matrices that contain mostly zeros.\n",
        "\n",
        "The following table shows some of the most common data types in TensorFlow:\n"
      ],
      "metadata": {
        "id": "IQd4jUad34Cg"
      }
    },
    {
      "cell_type": "markdown",
      "source": [
        "![image.png](data:image/png;base64,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)"
      ],
      "metadata": {
        "id": "1wN3QmEK5Pqs"
      }
    },
    {
      "cell_type": "code",
      "source": [
        "tensor = tf.constant([1,2,3,4], dtype=tf.int32)\n",
        "print(tensor, tensor.dtype)"
      ],
      "metadata": {
        "colab": {
          "base_uri": "https://localhost:8080/"
        },
        "id": "_Xf4bTPu5atX",
        "outputId": "f88aac3d-e44f-43a7-93bf-ab068f1298f4"
      },
      "execution_count": 3,
      "outputs": [
        {
          "output_type": "stream",
          "name": "stdout",
          "text": [
            "tf.Tensor([1 2 3 4], shape=(4,), dtype=int32) <dtype: 'int32'>\n"
          ]
        }
      ]
    },
    {
      "cell_type": "markdown",
      "source": [
        "You can also cast a tensor from one data type to another using the tf.cast() function. For example, the following code will cast the tensor tensor from 32-bit integers to 64-bit integers:\n",
        "\n"
      ],
      "metadata": {
        "id": "i4uUA1v36Cfm"
      }
    },
    {
      "cell_type": "code",
      "source": [
        "casted_tensor = tf.cast(tensor, tf.int64)\n",
        "print(casted_tensor, casted_tensor.dtype)"
      ],
      "metadata": {
        "colab": {
          "base_uri": "https://localhost:8080/"
        },
        "id": "jcrOmG1S6EEF",
        "outputId": "ee1b8df2-bf10-47d9-faab-7a59e2f47a1b"
      },
      "execution_count": 4,
      "outputs": [
        {
          "output_type": "stream",
          "name": "stdout",
          "text": [
            "tf.Tensor([1 2 3 4], shape=(4,), dtype=int64) <dtype: 'int64'>\n"
          ]
        }
      ]
    },
    {
      "cell_type": "markdown",
      "source": [
        "Also we can create different Variable types:\n"
      ],
      "metadata": {
        "id": "jGmwhT0F687p"
      }
    },
    {
      "cell_type": "code",
      "source": [
        "string_tesnsor = tf.Variable('I Love Python', dtype=tf.string)\n",
        "integer_tensor = tf.Variable(256, dtype=tf.int16)\n",
        "float_tensor = tf.Variable(220, dtype=tf.float16)\n",
        "print(string_tesnsor)\n",
        "print(integer_tensor)\n",
        "print(float_tensor)"
      ],
      "metadata": {
        "colab": {
          "base_uri": "https://localhost:8080/"
        },
        "id": "mcXbcrde7CUr",
        "outputId": "c6fdca8b-bad4-4838-bb8e-86fe2ccffc96"
      },
      "execution_count": 5,
      "outputs": [
        {
          "output_type": "stream",
          "name": "stdout",
          "text": [
            "<tf.Variable 'Variable:0' shape=() dtype=string, numpy=b'I Love Python'>\n",
            "<tf.Variable 'Variable:0' shape=() dtype=int16, numpy=256>\n",
            "<tf.Variable 'Variable:0' shape=() dtype=float16, numpy=220.0>\n"
          ]
        }
      ]
    },
    {
      "cell_type": "markdown",
      "source": [
        "##Rank/Degree of Tensors"
      ],
      "metadata": {
        "id": "c5Q0OVNdFm2s"
      }
    },
    {
      "cell_type": "markdown",
      "source": [
        "Another word for rank is degree, these terms simply mean the number of dimensions involved in the tensor. What we created above is a tensor of rank O. also known as a scalar.\n",
        "\n",
        "Now we'll create some tensors of higher degrees/ranks."
      ],
      "metadata": {
        "id": "rbTODV8BFwPs"
      }
    },
    {
      "cell_type": "code",
      "source": [
        "string_tensor = tf.Variable([['I','Love'], ['I', 'Love'],['Python','Python']], dtype=tf.string)\n",
        "print(string_tensor, tf.rank(string_tensor))"
      ],
      "metadata": {
        "colab": {
          "base_uri": "https://localhost:8080/"
        },
        "id": "sBY5giwFF1xl",
        "outputId": "7763b4ca-ce1d-4086-ffcf-6d4d29d11dae"
      },
      "execution_count": 6,
      "outputs": [
        {
          "output_type": "stream",
          "name": "stdout",
          "text": [
            "<tf.Variable 'Variable:0' shape=(3, 2) dtype=string, numpy=\n",
            "array([[b'I', b'Love'],\n",
            "       [b'I', b'Love'],\n",
            "       [b'Python', b'Python']], dtype=object)> tf.Tensor(2, shape=(), dtype=int32)\n"
          ]
        }
      ]
    },
    {
      "cell_type": "markdown",
      "source": [
        "##Shape of Tensors"
      ],
      "metadata": {
        "id": "J7h76Sp3IQNx"
      }
    },
    {
      "cell_type": "markdown",
      "source": [
        "Now that we've talked about the rank of tensors itis time to talk about the shape. The shape of a tensor is simply the amount of elements that exist in each dimension. TensorFlow will try to determine the shape of a tensor but sometimes it may be unknown.\n",
        "\n",
        "To get the shape of a tensor we use the shape attribute."
      ],
      "metadata": {
        "id": "531lkjETITsZ"
      }
    },
    {
      "cell_type": "code",
      "source": [
        "print(f'Shape: {string_tensor.shape}')\n",
        "print(f'Array: {string_tensor.numpy()}')"
      ],
      "metadata": {
        "colab": {
          "base_uri": "https://localhost:8080/"
        },
        "id": "0dPEZJYnIZ5P",
        "outputId": "3eef93f5-94be-49bd-82a3-f6f63cbb497e"
      },
      "execution_count": 7,
      "outputs": [
        {
          "output_type": "stream",
          "name": "stdout",
          "text": [
            "Shape: (3, 2)\n",
            "Array: [[b'I' b'Love']\n",
            " [b'I' b'Love']\n",
            " [b'Python' b'Python']]\n"
          ]
        }
      ]
    },
    {
      "cell_type": "markdown",
      "source": [
        "##Changing Shape"
      ],
      "metadata": {
        "id": "RShhPdnKM7aE"
      }
    },
    {
      "cell_type": "markdown",
      "source": [
        "The number of elements of a tensor is the product of the sizes of all its shapes. There are often many shapes that have the same number of elements, making it convient to be able to change the shape of a tensor.\n",
        "\n",
        "The example below shows how to change the shape of a tensor."
      ],
      "metadata": {
        "id": "YwLsqYGlNB5W"
      }
    },
    {
      "cell_type": "code",
      "source": [
        "# Create Ones Array full of Ones\n",
        "tensor1=tf.ones([1,2,3])\n",
        "print(tensor1.shape)\n",
        "\n",
        "# Reshape Tensor Array\n",
        "tensor2=tf.reshape(tensor1,[3,1,2])\n",
        "print(tensor2.shape)"
      ],
      "metadata": {
        "colab": {
          "base_uri": "https://localhost:8080/"
        },
        "id": "h8FWSUBjNGCZ",
        "outputId": "d12951f1-8849-4197-bf1a-2febdfc1454b"
      },
      "execution_count": 8,
      "outputs": [
        {
          "output_type": "stream",
          "name": "stdout",
          "text": [
            "(1, 2, 3)\n",
            "(3, 1, 2)\n"
          ]
        }
      ]
    },
    {
      "cell_type": "markdown",
      "source": [
        "##Types of Tensors\n"
      ],
      "metadata": {
        "id": "ZRGi2Dw0ib79"
      }
    },
    {
      "cell_type": "markdown",
      "source": [
        "Before we go to far I will mention that there are diffent types of tensors. These are the most commonly used and we will talk more in depth about each as they are used.\n",
        "* Variable\n",
        "* Constant\n",
        "* Placeholder\n",
        "* SparseTensor\n",
        "\n",
        "With the execption of Variable all of these tensors are immuttable, meaning their value may not change during execution."
      ],
      "metadata": {
        "id": "QTrAv2PJierT"
      }
    },
    {
      "cell_type": "markdown",
      "source": [
        "##Evaluating Tensors"
      ],
      "metadata": {
        "id": "yrSGskmEjMF7"
      }
    },
    {
      "cell_type": "markdown",
      "source": [
        "There are new ways to evaluate tensors in TensorFlow:\n",
        "\n",
        "Eager execution: In eager execution, tensors are evaluated immediately. This is the default mode in TensorFlow 2.0 and higher. To evaluate a tensor in eager execution, simply print it or pass it to a function that expects a tensor as input. For example:\n"
      ],
      "metadata": {
        "id": "ChHlllZ7jPe2"
      }
    },
    {
      "cell_type": "code",
      "source": [
        "# Pass the tensor to a function\n",
        "sqrt = lambda x: x ** 2\n",
        "\n",
        "squared_tensor = sqrt(tensor)\n",
        "# Print the original tensor\n",
        "print(tensor)\n",
        "\n",
        "# Print the squared tensor\n",
        "print(squared_tensor)\n"
      ],
      "metadata": {
        "id": "U_bIraDujVuX",
        "outputId": "7037658a-3fc4-46e9-910c-ebaef977c0ef",
        "colab": {
          "base_uri": "https://localhost:8080/"
        }
      },
      "execution_count": 10,
      "outputs": [
        {
          "output_type": "stream",
          "name": "stdout",
          "text": [
            "tf.Tensor([1 2 3 4], shape=(4,), dtype=int32)\n",
            "tf.Tensor([ 1  4  9 16], shape=(4,), dtype=int32)\n"
          ]
        }
      ]
    }
  ]
}